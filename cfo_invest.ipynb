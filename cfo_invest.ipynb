# 미국주식 CFO 구하기 - 풀버전

import FinanceDataReader as fdr
import pandas as pd


def get_ticker():
    nasdaq = fdr.StockListing('NASDAQ')
    nyse = fdr.StockListing('NYSE')
    amex = fdr.StockListing('AMEX')

    df = pd.concat([nasdaq, nyse, amex])
    df1 = df.copy()
    df1 = df1.drop_duplicates('Symbol')
    
    return df1['Symbol']

tickers_all = get_ticker()




from yahooquery import Ticker

# 전체 미국시장 ticker
tickers = tickers_all.to_list()
# tickers = ['AAPL', 'TSLA', 'PLTR','NVDA','SOFI','COIN','AMZN']

# tickers = tickers[:1000]

symbol = Ticker(tickers)

print(symbol)

# CFO : 영업활동현금흐름 == 영업이익 + 감가상각비 - 법인세 (별도항목으로 기재)
cash = symbol.cash_flow(trailing=False)
cashflow = cash['CashFlowFromContinuingOperatingActivities']

date = cash['asOfDate']

# 최근 CFO 구하기
last_cashflows = [] # 최근 1년 CFO
last_cashflows2 = [] # 최근 2년전 CFO
last_cashflows3 = [] # 최근 3년전 CFO

for ticker in tickers:
    if ticker in cashflow and isinstance(cashflow[ticker], pd.Series) and len(cashflow[ticker]) >= 1:
        last_cashflow = cashflow[ticker].iloc[-1]
        last_cashflows.append(last_cashflow)
    else:
        last_cashflows.append(None)

    if ticker in cashflow and isinstance(cashflow[ticker], pd.Series) and len(cashflow[ticker]) >= 2:
        last_cashflow2 = cashflow[ticker].iloc[-2]
        last_cashflows2.append(last_cashflow2)
    else:
        last_cashflows2.append(None)

    if ticker in cashflow and isinstance(cashflow[ticker], pd.Series) and len(cashflow[ticker]) >= 3:
        last_cashflow3 = cashflow[ticker].iloc[-3]
        last_cashflows3.append(last_cashflow3)
    elif ticker in cashflow and isinstance(cashflow[ticker], pd.Series) and len(cashflow[ticker]) >= 2:
        last_cashflows3.append(None)
    else:
        last_cashflows3.append(None)


# 시가총액
market_caps = []

for ticker in tickers:
    sym_detail = symbol.summary_detail[ticker]
    if isinstance(sym_detail, dict):
        market_cap = sym_detail.get('marketCap')
        market_caps.append(market_cap)
    else:
        market_caps.append(None)
        
print("시가총액:", market_caps)


# PCR 비율 구하기 
pcr_ratios = []

for market_cap, last_cashflow in zip(market_caps, last_cashflows):
    if market_cap is None or last_cashflow is None:
        pcr_ratio = None
    else:
        pcr_ratio = market_cap / last_cashflow
    pcr_ratios.append(pcr_ratio)
    
print("PCR 비율:", pcr_ratios)


# CFO 연속증가여부 (최근 3개년)
con_increase = []

for ticker in tickers:
    if (
        last_cashflows[tickers.index(ticker)] > last_cashflows2[tickers.index(ticker)]
        and last_cashflows2[tickers.index(ticker)] > last_cashflows3[tickers.index(ticker)]
        ):
        
        con_increase.append('Y')
    else:
        con_increase.append('N') 


# 숫자 형식 설정
pd.options.display.float_format = '{:,.0f}'.format
	
# 값을 백만 단위로 변환하는 함수
def format_millions(value):
    if isinstance(value, list):
        return [f"{v / 1_000_000:,.0f} M" if v else None for v in value]
    else:
        return f"{value / 1_000_000:,.0f} M" if value else None

# 데이터프레임 생성
data = {'US Stock': tickers, 'PCR': pcr_ratios, 'Continuous Increase': con_increase}

df = pd.DataFrame(data)


# 최근 1년 CFO 추가
df[f'{date[3]}'] = [format_millions(last_cashflow) for last_cashflow in last_cashflows]

# 최근 2년 CFO 추가
df[f'{date[2]}'] = [format_millions(last_cashflow2) for last_cashflow2 in last_cashflows2]

# 최근 3년 CFO 추가
df[f'{date[1]}'] = [format_millions(last_cashflow3) for last_cashflow3 in last_cashflows3]



df.head(10)     
    
